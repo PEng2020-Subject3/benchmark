{
 "cells": [
  {
   "cell_type": "code",
   "execution_count": 23,
   "metadata": {},
   "outputs": [
    {
     "data": {
      "text/html": [
       "<div>\n",
       "<style scoped>\n",
       "    .dataframe tbody tr th:only-of-type {\n",
       "        vertical-align: middle;\n",
       "    }\n",
       "\n",
       "    .dataframe tbody tr th {\n",
       "        vertical-align: top;\n",
       "    }\n",
       "\n",
       "    .dataframe thead th {\n",
       "        text-align: right;\n",
       "    }\n",
       "</style>\n",
       "<table border=\"1\" class=\"dataframe\">\n",
       "  <thead>\n",
       "    <tr style=\"text-align: right;\">\n",
       "      <th></th>\n",
       "      <th>Type</th>\n",
       "      <th>Name</th>\n",
       "      <th>Request Count</th>\n",
       "      <th>Failure Count</th>\n",
       "      <th>Median Response Time</th>\n",
       "      <th>Average Response Time</th>\n",
       "      <th>Min Response Time</th>\n",
       "      <th>Max Response Time</th>\n",
       "      <th>Average Content Size</th>\n",
       "      <th>Requests/s</th>\n",
       "      <th>...</th>\n",
       "      <th>75%</th>\n",
       "      <th>80%</th>\n",
       "      <th>90%</th>\n",
       "      <th>95%</th>\n",
       "      <th>98%</th>\n",
       "      <th>99%</th>\n",
       "      <th>99.9%</th>\n",
       "      <th>99.99%</th>\n",
       "      <th>99.999%</th>\n",
       "      <th>100%</th>\n",
       "    </tr>\n",
       "  </thead>\n",
       "  <tbody>\n",
       "    <tr>\n",
       "      <th>0</th>\n",
       "      <td>GET</td>\n",
       "      <td>/function/nodeinfo</td>\n",
       "      <td>262</td>\n",
       "      <td>0</td>\n",
       "      <td>19</td>\n",
       "      <td>34.713195</td>\n",
       "      <td>10.091066</td>\n",
       "      <td>537.893772</td>\n",
       "      <td>100.809160</td>\n",
       "      <td>0.354089</td>\n",
       "      <td>...</td>\n",
       "      <td>26</td>\n",
       "      <td>28</td>\n",
       "      <td>42</td>\n",
       "      <td>82</td>\n",
       "      <td>280</td>\n",
       "      <td>420</td>\n",
       "      <td>540</td>\n",
       "      <td>540</td>\n",
       "      <td>540</td>\n",
       "      <td>540</td>\n",
       "    </tr>\n",
       "    <tr>\n",
       "      <th>1</th>\n",
       "      <td>GET</td>\n",
       "      <td>/function/nodeinfo?policy=test</td>\n",
       "      <td>225</td>\n",
       "      <td>0</td>\n",
       "      <td>19</td>\n",
       "      <td>30.617682</td>\n",
       "      <td>9.158850</td>\n",
       "      <td>561.810970</td>\n",
       "      <td>106.786667</td>\n",
       "      <td>0.304084</td>\n",
       "      <td>...</td>\n",
       "      <td>25</td>\n",
       "      <td>27</td>\n",
       "      <td>41</td>\n",
       "      <td>67</td>\n",
       "      <td>92</td>\n",
       "      <td>520</td>\n",
       "      <td>560</td>\n",
       "      <td>560</td>\n",
       "      <td>560</td>\n",
       "      <td>560</td>\n",
       "    </tr>\n",
       "    <tr>\n",
       "      <th>2</th>\n",
       "      <td>NaN</td>\n",
       "      <td>Aggregated</td>\n",
       "      <td>487</td>\n",
       "      <td>0</td>\n",
       "      <td>19</td>\n",
       "      <td>32.821018</td>\n",
       "      <td>9.158850</td>\n",
       "      <td>561.810970</td>\n",
       "      <td>103.570842</td>\n",
       "      <td>0.658174</td>\n",
       "      <td>...</td>\n",
       "      <td>26</td>\n",
       "      <td>28</td>\n",
       "      <td>42</td>\n",
       "      <td>74</td>\n",
       "      <td>210</td>\n",
       "      <td>520</td>\n",
       "      <td>560</td>\n",
       "      <td>560</td>\n",
       "      <td>560</td>\n",
       "      <td>560</td>\n",
       "    </tr>\n",
       "  </tbody>\n",
       "</table>\n",
       "<p>3 rows × 23 columns</p>\n",
       "</div>"
      ],
      "text/plain": [
       "  Type                            Name  Request Count  Failure Count  \\\n",
       "0  GET              /function/nodeinfo            262              0   \n",
       "1  GET  /function/nodeinfo?policy=test            225              0   \n",
       "2  NaN                      Aggregated            487              0   \n",
       "\n",
       "   Median Response Time  Average Response Time  Min Response Time  \\\n",
       "0                    19              34.713195          10.091066   \n",
       "1                    19              30.617682           9.158850   \n",
       "2                    19              32.821018           9.158850   \n",
       "\n",
       "   Max Response Time  Average Content Size  Requests/s  ...  75%  80%  90%  \\\n",
       "0         537.893772            100.809160    0.354089  ...   26   28   42   \n",
       "1         561.810970            106.786667    0.304084  ...   25   27   41   \n",
       "2         561.810970            103.570842    0.658174  ...   26   28   42   \n",
       "\n",
       "   95%  98%  99%  99.9%  99.99%  99.999%  100%  \n",
       "0   82  280  420    540     540      540   540  \n",
       "1   67   92  520    560     560      560   560  \n",
       "2   74  210  520    560     560      560   560  \n",
       "\n",
       "[3 rows x 23 columns]"
      ]
     },
     "execution_count": 23,
     "metadata": {},
     "output_type": "execute_result"
    }
   ],
   "source": [
    "import pandas as pd\n",
    "from matplotlib import pyplot as plot\n",
    "import seaborn as sns\n",
    "df = pd.read_csv(\"./data/requests.csv\")\n",
    "df.head()"
   ]
  },
  {
   "cell_type": "code",
   "execution_count": 52,
   "metadata": {},
   "outputs": [
    {
     "data": {
      "text/html": [
       "<div>\n",
       "<style scoped>\n",
       "    .dataframe tbody tr th:only-of-type {\n",
       "        vertical-align: middle;\n",
       "    }\n",
       "\n",
       "    .dataframe tbody tr th {\n",
       "        vertical-align: top;\n",
       "    }\n",
       "\n",
       "    .dataframe thead th {\n",
       "        text-align: right;\n",
       "    }\n",
       "</style>\n",
       "<table border=\"1\" class=\"dataframe\">\n",
       "  <thead>\n",
       "    <tr style=\"text-align: right;\">\n",
       "      <th></th>\n",
       "      <th>Max Response Time</th>\n",
       "      <th>Average Content Size</th>\n",
       "      <th>Requests/s</th>\n",
       "      <th>Failures/s</th>\n",
       "      <th>50%</th>\n",
       "      <th>66%</th>\n",
       "      <th>75%</th>\n",
       "      <th>80%</th>\n",
       "      <th>90%</th>\n",
       "      <th>95%</th>\n",
       "      <th>98%</th>\n",
       "      <th>99%</th>\n",
       "      <th>99.9%</th>\n",
       "      <th>99.99%</th>\n",
       "      <th>99.999%</th>\n",
       "      <th>100%</th>\n",
       "    </tr>\n",
       "  </thead>\n",
       "  <tbody>\n",
       "    <tr>\n",
       "      <th>0</th>\n",
       "      <td>537.893772</td>\n",
       "      <td>100.809160</td>\n",
       "      <td>0.354089</td>\n",
       "      <td>0.0</td>\n",
       "      <td>19</td>\n",
       "      <td>23</td>\n",
       "      <td>26</td>\n",
       "      <td>28</td>\n",
       "      <td>42</td>\n",
       "      <td>82</td>\n",
       "      <td>280</td>\n",
       "      <td>420</td>\n",
       "      <td>540</td>\n",
       "      <td>540</td>\n",
       "      <td>540</td>\n",
       "      <td>540</td>\n",
       "    </tr>\n",
       "    <tr>\n",
       "      <th>1</th>\n",
       "      <td>561.810970</td>\n",
       "      <td>106.786667</td>\n",
       "      <td>0.304084</td>\n",
       "      <td>0.0</td>\n",
       "      <td>19</td>\n",
       "      <td>22</td>\n",
       "      <td>25</td>\n",
       "      <td>27</td>\n",
       "      <td>41</td>\n",
       "      <td>67</td>\n",
       "      <td>92</td>\n",
       "      <td>520</td>\n",
       "      <td>560</td>\n",
       "      <td>560</td>\n",
       "      <td>560</td>\n",
       "      <td>560</td>\n",
       "    </tr>\n",
       "    <tr>\n",
       "      <th>2</th>\n",
       "      <td>561.810970</td>\n",
       "      <td>103.570842</td>\n",
       "      <td>0.658174</td>\n",
       "      <td>0.0</td>\n",
       "      <td>19</td>\n",
       "      <td>23</td>\n",
       "      <td>26</td>\n",
       "      <td>28</td>\n",
       "      <td>42</td>\n",
       "      <td>74</td>\n",
       "      <td>210</td>\n",
       "      <td>520</td>\n",
       "      <td>560</td>\n",
       "      <td>560</td>\n",
       "      <td>560</td>\n",
       "      <td>560</td>\n",
       "    </tr>\n",
       "  </tbody>\n",
       "</table>\n",
       "</div>"
      ],
      "text/plain": [
       "   Max Response Time  Average Content Size  Requests/s  Failures/s  50%  66%  \\\n",
       "0         537.893772            100.809160    0.354089         0.0   19   23   \n",
       "1         561.810970            106.786667    0.304084         0.0   19   22   \n",
       "2         561.810970            103.570842    0.658174         0.0   19   23   \n",
       "\n",
       "   75%  80%  90%  95%  98%  99%  99.9%  99.99%  99.999%  100%  \n",
       "0   26   28   42   82  280  420    540     540      540   540  \n",
       "1   25   27   41   67   92  520    560     560      560   560  \n",
       "2   26   28   42   74  210  520    560     560      560   560  "
      ]
     },
     "execution_count": 52,
     "metadata": {},
     "output_type": "execute_result"
    }
   ],
   "source": [
    "df.iloc[:, 7:]"
   ]
  },
  {
   "cell_type": "code",
   "execution_count": 34,
   "metadata": {},
   "outputs": [
    {
     "data": {
      "image/png": "[encoded data removed]",
      "text/plain": [
       "<Figure size 432x288 with 1 Axes>"
      ]
     },
     "metadata": {
      "needs_background": "light"
     },
     "output_type": "display_data"
    }
   ],
   "source": [
    "stats = [\n",
    "    {'med': 5, 'q1': 2, 'q3': 6, 'whislo': 1, 'whishi': 8},\n",
    "    {'med': 4, 'q1': 2, 'q3': 6, 'whislo': 1, 'whishi': 8}\n",
    "]\n",
    "\n",
    "_, ax = plot.subplots();\n",
    "ax.bxp(stats, showfliers=False);"
   ]
  },
  {
   "cell_type": "code",
   "execution_count": 60,
   "metadata": {},
   "outputs": [
    {
     "data": {
      "image/png": "[encoded data removed]",
      "text/plain": [
       "<Figure size 432x288 with 1 Axes>"
      ]
     },
     "metadata": {
      "needs_background": "light"
     },
     "output_type": "display_data"
    }
   ],
   "source": [
    "\n",
    "\n",
    "sns.boxplot(data=[df['Min Response Time'][0], df['50%'][0], df['Median Response Time'][0], df['75%'][0], df['Max Response Time'][0]])\n",
    "\n",
    "plot.show()"
   ]
  },
  {
   "cell_type": "code",
   "execution_count": 59,
   "metadata": {},
   "outputs": [
    {
     "data": {
      "text/plain": [
       "<matplotlib.axes._subplots.AxesSubplot at 0x7fe90c9f3650>"
      ]
     },
     "execution_count": 59,
     "metadata": {},
     "output_type": "execute_result"
    },
    {
     "data": {
      "image/png": "[encoded data removed]",
      "text/plain": [
       "<Figure size 432x288 with 1 Axes>"
      ]
     },
     "metadata": {
      "needs_background": "light"
     },
     "output_type": "display_data"
    }
   ],
   "source": [
    "sns.barplot(y=df['Median Response Time'], x=df['Name'])"
   ]
  },
  {
   "cell_type": "code",
   "execution_count": null,
   "metadata": {},
   "outputs": [],
   "source": []
  }
 ],
 "metadata": {
  "kernelspec": {
   "display_name": "Python 3",
   "language": "python",
   "name": "python3"
  },
  "language_info": {
   "codemirror_mode": {
    "name": "ipython",
    "version": 3
   },
   "file_extension": ".py",
   "mimetype": "text/x-python",
   "name": "python",
   "nbconvert_exporter": "python",
   "pygments_lexer": "ipython3",
   "version": "3.7.6"
  }
 },
 "nbformat": 4,
 "nbformat_minor": 4
}
